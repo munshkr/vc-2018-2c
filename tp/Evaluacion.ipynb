{
 "cells": [
  {
   "cell_type": "markdown",
   "metadata": {},
   "source": [
    "# Evaluación"
   ]
  },
  {
   "cell_type": "code",
   "execution_count": 8,
   "metadata": {},
   "outputs": [],
   "source": [
    "import warnings\n",
    "warnings.filterwarnings(\"ignore\")"
   ]
  },
  {
   "cell_type": "code",
   "execution_count": 9,
   "metadata": {},
   "outputs": [
    {
     "name": "stderr",
     "output_type": "stream",
     "text": [
      "Using TensorFlow backend.\n"
     ]
    }
   ],
   "source": [
    "from keras.models import Sequential, Model\n",
    "from keras.layers import Dense, Flatten, Dropout, MaxPooling2D, Input, BatchNormalization\n",
    "from keras.layers.convolutional import Conv2D\n",
    "from keras.optimizers import SGD, Adam\n",
    "from keras.callbacks import ReduceLROnPlateau\n",
    "from keras.preprocessing.image import ImageDataGenerator\n",
    "import keras.backend as K\n",
    "from glob import glob\n",
    "import numpy as np\n",
    "from numpy.linalg import inv\n",
    "import os\n",
    "import shutil\n",
    "import random\n",
    "import cv2\n",
    "import gc\n",
    "import matplotlib.pyplot as plt\n",
    "from itertools import zip_longest\n",
    "import uuid\n",
    "from multiprocessing import Pool, cpu_count\n",
    "\n",
    "%matplotlib inline"
   ]
  },
  {
   "cell_type": "markdown",
   "metadata": {},
   "source": [
    "## Construcción del dataset"
   ]
  },
  {
   "cell_type": "markdown",
   "metadata": {},
   "source": [
    "Armamos un dataset para evaluar los resultados de los modelos contra *baselines*. Vamos a usar las 5k imágenes del dataset de validación de COCO 2017, y generar los pares de parches transformados para cada imagen del dataset original, tal como está especificado en el paper:\n",
    "\n",
    "> To create this test set, we randomly chose $5000$ images from the test set and resized each image to grayscale $640 \\times 480$, and generate a pairs of image patches sized $256 \\times 256$ and corresponding ground truth homography, using the approach described in Figure 3 with $\\rho = 64$"
   ]
  },
  {
   "cell_type": "code",
   "execution_count": 36,
   "metadata": {},
   "outputs": [],
   "source": [
    "#DATA_DIR = os.path.join('e:', 'Facultad', 'vc')\n",
    "DATA_DIR = os.path.join('./')"
   ]
  },
  {
   "cell_type": "code",
   "execution_count": 37,
   "metadata": {
    "colab": {},
    "colab_type": "code",
    "id": "ZduN_4jSMdYk"
   },
   "outputs": [],
   "source": [
    "X_test_files = glob(os.path.join(DATA_DIR, 'val2017', '*.jpg'))"
   ]
  },
  {
   "cell_type": "code",
   "execution_count": 38,
   "metadata": {
    "colab": {
     "base_uri": "https://localhost:8080/",
     "height": 34
    },
    "colab_type": "code",
    "id": "KPZ4sWwMMntW",
    "outputId": "6f2daa74-92a8-4baf-b88c-b1e15ac7c33d"
   },
   "outputs": [
    {
     "data": {
      "text/plain": [
       "(5000, './val2017/000000099039.jpg')"
      ]
     },
     "execution_count": 38,
     "metadata": {},
     "output_type": "execute_result"
    }
   ],
   "source": [
    "len(X_test_files), X_test_files[0]"
   ]
  },
  {
   "cell_type": "markdown",
   "metadata": {},
   "source": [
    "Definimos los parámetros del dataset de test"
   ]
  },
  {
   "cell_type": "code",
   "execution_count": 39,
   "metadata": {},
   "outputs": [],
   "source": [
    "WIDTH, HEIGHT = 640, 480\n",
    "RHO = 64\n",
    "PATCH_SIZE = 256"
   ]
  },
  {
   "cell_type": "markdown",
   "metadata": {},
   "source": [
    "Usamos el mismo código que en el notebook de Modelo:"
   ]
  },
  {
   "cell_type": "code",
   "execution_count": 40,
   "metadata": {},
   "outputs": [],
   "source": [
    "def random_patch_positions():\n",
    "    \"\"\"Calculate random position for patch P\"\"\"\n",
    "    px = random.randint(RHO, WIDTH - PATCH_SIZE - RHO)\n",
    "    py = random.randint(RHO, HEIGHT - PATCH_SIZE - RHO)\n",
    "    return px, py  \n",
    "\n",
    "def random_delta():\n",
    "    \"\"\"Calculate random delta for patch corner distortion\"\"\"\n",
    "    return np.random.randint(-RHO, RHO, size=2)\n",
    "\n",
    "def extract_from_patch(img, patch):\n",
    "    \"\"\"Extract patch from image\"\"\"\n",
    "    a, _, c, _ = patch\n",
    "    return img[a[1]:c[1], a[0]:c[0]]\n",
    "\n",
    "def build_random_patch():\n",
    "    px, py = random_patch_positions()\n",
    "    return [(px, py),\n",
    "            (px + PATCH_SIZE, py),\n",
    "            (px + PATCH_SIZE, py + PATCH_SIZE),\n",
    "            (px, py + PATCH_SIZE)]\n",
    "\n",
    "def distort_patch(patch):\n",
    "    return [p + random_delta() for p in patch]\n",
    "\n",
    "\n",
    "def warp_image(img, patch, new_patch):\n",
    "    # Get homography matrix\n",
    "    H = cv2.getPerspectiveTransform(\n",
    "        np.float32(patch),\n",
    "        np.float32(new_patch))\n",
    "    \n",
    "    # Transform image with H\n",
    "    return cv2.warpPerspective(img, inv(H),\n",
    "        (img.shape[1], img.shape[0]))  \n",
    "\n",
    "def process_image(img, debug=False):\n",
    "    # Resize and convert to grayscale\n",
    "    resized_img = cv2.resize(img, (WIDTH, HEIGHT))\n",
    "    if len(resized_img.shape) == 3:\n",
    "        gray_img = cv2.cvtColor(resized_img, cv2.COLOR_RGB2GRAY)\n",
    "    else:\n",
    "        gray_img = resized_img\n",
    "        \n",
    "    assert(len(gray_img.shape) == 2)\n",
    " \n",
    "    # Build patch, and perturb corners\n",
    "    patch = build_random_patch()\n",
    "    distorted_patch = distort_patch(patch)\n",
    "\n",
    "    warped_img = warp_image(gray_img, patch, distorted_patch)\n",
    "    \n",
    "    # Extract patches\n",
    "    a_img = extract_from_patch(gray_img, patch)\n",
    "    b_img = extract_from_patch(warped_img, patch)\n",
    "    \n",
    "    # Stack patch images together\n",
    "    x = np.dstack([a_img, b_img])\n",
    "    \n",
    "    # Subtract patches to get delta\n",
    "    # int8 is good enough because RHO = 32, so, values are in [-32, 32] range\n",
    "    y = np.subtract(patch, distorted_patch).ravel().astype(np.int8)\n",
    "\n",
    "    if debug:\n",
    "        # On debug mode, return also original patch and warped img for plotting\n",
    "        return x, y, (patch, distorted_patch), (gray_img, warped_img)\n",
    "    \n",
    "    return x, y"
   ]
  },
  {
   "cell_type": "code",
   "execution_count": 41,
   "metadata": {},
   "outputs": [],
   "source": [
    "def plot_processed_image(img_path):\n",
    "    img = plt.imread(img_path)\n",
    "    x, y, patches, imgs = process_image(img, debug=True)\n",
    "    \n",
    "    print('Label: {}'.format(y))\n",
    "    \n",
    "    for i in range(2):\n",
    "        plt.subplot(2, 2, i+1)\n",
    "        plt.grid(False)    \n",
    "        temp_img = cv2.cvtColor(imgs[i], cv2.COLOR_GRAY2RGB)\n",
    "        cv2.polylines(temp_img, np.int32([patches[i]]), 1, (255, 0, 0), thickness=2)    \n",
    "        plt.imshow(temp_img, cmap='gray')\n",
    "\n",
    "    for i in range(2):\n",
    "        patch_img = x[:, :, i]\n",
    "        \n",
    "        print('[{}] shape={}'.format(i, patch_img.shape))        \n",
    "        print('[{}] mean={}, std={}'.format(\n",
    "            i, np.mean(patch_img), np.std(patch_img)))\n",
    "      \n",
    "        plt.subplot(2, 2, i+3)\n",
    "        plt.grid(False)\n",
    "        plt.imshow(patch_img, cmap='gray')\n",
    "        #plt.text(0.5,0.5, str((2, 2, i)), ha=’center’, fontsize = 10)\n",
    "        plt.tight_layout()"
   ]
  },
  {
   "cell_type": "code",
   "execution_count": 42,
   "metadata": {},
   "outputs": [
    {
     "name": "stdout",
     "output_type": "stream",
     "text": [
      "Label: [-41  34 -45  40  37  55  64 -37]\n",
      "[0] shape=(256, 256)\n",
      "[0] mean=111.084716796875, std=30.882704703009928\n",
      "[1] shape=(256, 256)\n",
      "[1] mean=115.54580688476562, std=32.36356449024836\n"
     ]
    },
    {
     "data": {
      "image/png": "[encoded data removed]",
      "text/plain": [
       "<Figure size 432x288 with 4 Axes>"
      ]
     },
     "metadata": {},
     "output_type": "display_data"
    }
   ],
   "source": [
    "plot_processed_image(X_test[0])"
   ]
  },
  {
   "cell_type": "code",
   "execution_count": 47,
   "metadata": {},
   "outputs": [],
   "source": [
    "def generate_test_dataset(X, out_dir):\n",
    "    random.shuffle(X)\n",
    "    \n",
    "    xs, ys = [], []\n",
    "    for img_path in X:\n",
    "        img = plt.imread(img_path)\n",
    "        try:\n",
    "            x, y = process_image(img)\n",
    "        except:\n",
    "            print(\"Image broken? {}\".format(img_path))\n",
    "            raise\n",
    "        xs.append(x)\n",
    "        ys.append(y)\n",
    "\n",
    "    xs = np.array(xs, dtype=np.uint8)\n",
    "    ys = np.array(ys, dtype=np.int8)\n",
    "\n",
    "    outfile = os.path.join(out_dir, '{}.npz'.format(uuid.uuid4()))\n",
    "    os.makedirs(os.path.dirname(outfile), exist_ok=True)\n",
    "    np.savez_compressed(outfile, x=xs, y=ys)\n",
    "    print(outfile)\n",
    "    return outfile"
   ]
  },
  {
   "cell_type": "code",
   "execution_count": 48,
   "metadata": {},
   "outputs": [
    {
     "name": "stdout",
     "output_type": "stream",
     "text": [
      "./test_dataset/a6a35a5c-058c-4674-b169-6f407c6e3e32.npz\n"
     ]
    }
   ],
   "source": [
    "test_path = generate_test_dataset(X_test, os.path.join(DATA_DIR, 'test_dataset'))"
   ]
  },
  {
   "cell_type": "markdown",
   "metadata": {},
   "source": [
    "## Métrica"
   ]
  },
  {
   "cell_type": "markdown",
   "metadata": {},
   "source": [
    "Utilizamos la métrica *Mean average corner error* (MACE), que mide en promedio la diferencia en píxeles de cada esquina:\n",
    "\n",
    "> We report the Mean Average Corner Error for each approach. To measure this metric, one first computes the L2 distance between the ground truth corner position and the estimated corner position. The error is averaged over the four corners of the image, and the mean is computed over the entire test set."
   ]
  },
  {
   "cell_type": "code",
   "execution_count": 172,
   "metadata": {},
   "outputs": [],
   "source": [
    "# Para probar, tomamos las primeras 3 etiquetas de y_test\n",
    "y_true = y_test[:3]\n",
    "\n",
    "# En el caso de la identidad, el y de predicción sería el vector nulo (deltas = 0)\n",
    "y_pred = np.zeros((y_true.shape[0], 8), dtype=np.int8)"
   ]
  },
  {
   "cell_type": "code",
   "execution_count": 130,
   "metadata": {},
   "outputs": [
    {
     "data": {
      "text/plain": [
       "array([[  1, -28,  46, -47,  41,  57, -56,  45],\n",
       "       [ 28, -46,  -6, -56, -59,  -6,   8, -51],\n",
       "       [-19,  58,  63, -63, -26,  27,  17,  35]], dtype=int8)"
      ]
     },
     "execution_count": 130,
     "metadata": {},
     "output_type": "execute_result"
    }
   ],
   "source": [
    "y_true"
   ]
  },
  {
   "cell_type": "code",
   "execution_count": 131,
   "metadata": {},
   "outputs": [
    {
     "data": {
      "text/plain": [
       "array([[0, 0, 0, 0, 0, 0, 0, 0],\n",
       "       [0, 0, 0, 0, 0, 0, 0, 0],\n",
       "       [0, 0, 0, 0, 0, 0, 0, 0]], dtype=int8)"
      ]
     },
     "execution_count": 131,
     "metadata": {},
     "output_type": "execute_result"
    }
   ],
   "source": [
    "y_pred"
   ]
  },
  {
   "cell_type": "code",
   "execution_count": 139,
   "metadata": {},
   "outputs": [
    {
     "data": {
      "text/plain": [
       "array([[  1, -28],\n",
       "       [ 46, -47],\n",
       "       [ 41,  57],\n",
       "       [-56,  45]])"
      ]
     },
     "execution_count": 139,
     "metadata": {},
     "output_type": "execute_result"
    }
   ],
   "source": [
    "diff = (y_true.reshape(-1, 4, 2) - y_pred.reshape(-1, 4, 2)).astype(np.int)\n",
    "diff[0, :, :]"
   ]
  },
  {
   "cell_type": "code",
   "execution_count": 142,
   "metadata": {},
   "outputs": [
    {
     "data": {
      "text/plain": [
       "array([[   1,  784],\n",
       "       [2116, 2209],\n",
       "       [1681, 3249],\n",
       "       [3136, 2025]])"
      ]
     },
     "execution_count": 142,
     "metadata": {},
     "output_type": "execute_result"
    }
   ],
   "source": [
    "squared_diff = np.square(diff)\n",
    "squared_diff[0, :, :]"
   ]
  },
  {
   "cell_type": "code",
   "execution_count": 152,
   "metadata": {},
   "outputs": [
    {
     "data": {
      "text/plain": [
       "array([ 785, 4325, 4930, 5161])"
      ]
     },
     "execution_count": 152,
     "metadata": {},
     "output_type": "execute_result"
    }
   ],
   "source": [
    "squared_diff_sum = np.sum(squared_diff, axis=2)\n",
    "squared_diff_sum[0]"
   ]
  },
  {
   "cell_type": "code",
   "execution_count": 173,
   "metadata": {},
   "outputs": [
    {
     "data": {
      "text/plain": [
       "array([28.01785145, 65.76473219, 70.21395873, 71.84010022])"
      ]
     },
     "execution_count": 173,
     "metadata": {},
     "output_type": "execute_result"
    }
   ],
   "source": [
    "diff_sum_abs = np.sqrt(squared_diff_sum)\n",
    "diff_sum_abs[0]"
   ]
  },
  {
   "cell_type": "code",
   "execution_count": 166,
   "metadata": {},
   "outputs": [
    {
     "data": {
      "text/plain": [
       "56.95487125714033"
      ]
     },
     "execution_count": 166,
     "metadata": {},
     "output_type": "execute_result"
    }
   ],
   "source": [
    "np.mean(diff_sum_abs)"
   ]
  },
  {
   "cell_type": "code",
   "execution_count": 170,
   "metadata": {},
   "outputs": [],
   "source": [
    "def mean_average_corner_error(y_true, y_pred):\n",
    "    diff = (y_true.reshape(-1, 4, 2) - y_pred.reshape(-1, 4, 2)).astype(np.int)\n",
    "    return np.mean(np.sqrt(np.sum(np.square(diff), axis=2)))"
   ]
  },
  {
   "cell_type": "code",
   "execution_count": 171,
   "metadata": {},
   "outputs": [
    {
     "data": {
      "text/plain": [
       "56.95487125714033"
      ]
     },
     "execution_count": 171,
     "metadata": {},
     "output_type": "execute_result"
    }
   ],
   "source": [
    "mean_average_corner_error(y_true, y_pred)"
   ]
  },
  {
   "cell_type": "markdown",
   "metadata": {},
   "source": [
    "## Evaluar con identidad"
   ]
  },
  {
   "cell_type": "markdown",
   "metadata": {},
   "source": [
    "Un baseline utilizado en el paper es asumir que el $H = I$. En términos de la salida de la red (la etiqueta del dataset), el delta de los 4 puntos sería 0, dado que la homografía que es identidad implica que no hay transformación y por lo tanto las esquinas del parche no fueron modificadas."
   ]
  },
  {
   "cell_type": "code",
   "execution_count": 51,
   "metadata": {},
   "outputs": [
    {
     "data": {
      "text/plain": [
       "'./test_dataset/a6a35a5c-058c-4674-b169-6f407c6e3e32.npz'"
      ]
     },
     "execution_count": 51,
     "metadata": {},
     "output_type": "execute_result"
    }
   ],
   "source": [
    "test_path = glob(os.path.join(DATA_DIR, 'test_dataset', '*.npz'))[0]\n",
    "test_path"
   ]
  },
  {
   "cell_type": "code",
   "execution_count": 58,
   "metadata": {},
   "outputs": [],
   "source": [
    "dataset = np.load(test_path)\n",
    "X_test, y_test = dataset['x'], dataset['y']"
   ]
  },
  {
   "cell_type": "code",
   "execution_count": 61,
   "metadata": {},
   "outputs": [
    {
     "data": {
      "text/plain": [
       "((5000, 256, 256, 2), (5000, 8))"
      ]
     },
     "execution_count": 61,
     "metadata": {},
     "output_type": "execute_result"
    }
   ],
   "source": [
    "X_test.shape, y_test.shape"
   ]
  },
  {
   "cell_type": "code",
   "execution_count": 176,
   "metadata": {},
   "outputs": [
    {
     "data": {
      "text/plain": [
       "(5000, 8)"
      ]
     },
     "execution_count": 176,
     "metadata": {},
     "output_type": "execute_result"
    }
   ],
   "source": [
    "y_pred = np.zeros((y_test.shape[0], 8))\n",
    "y_pred.shape"
   ]
  },
  {
   "cell_type": "code",
   "execution_count": 177,
   "metadata": {},
   "outputs": [
    {
     "data": {
      "text/plain": [
       "49.01231988094873"
      ]
     },
     "execution_count": 177,
     "metadata": {},
     "output_type": "execute_result"
    }
   ],
   "source": [
    "mean_average_corner_error(y_test, y_pred)"
   ]
  },
  {
   "cell_type": "markdown",
   "metadata": {},
   "source": [
    "## Evaluar con ORB + RANSAC"
   ]
  },
  {
   "cell_type": "markdown",
   "metadata": {},
   "source": [
    "El segundo baseline propuesto por el paper es utilizar un método tradicional como ORB + RANSAC para estimar la homografía:\n",
    "\n",
    "> We use the default OpenCV parameters in the traditional homography estimator. This estimates ORB features at multiple scales and uses the top 25 scoring matches as input to the RANSAC estimator. In scenarios where too few ORB features are computed, the ORB+RANSAC approach outputs an identity estimate. In scenarios where the ORB+RANSAC’s estimate is too extreme, the 4-point homography estimate is clipped at $[-64,64]$."
   ]
  },
  {
   "cell_type": "code",
   "execution_count": 67,
   "metadata": {},
   "outputs": [
    {
     "name": "stdout",
     "output_type": "stream",
     "text": [
      "(128, 128, 2)\n"
     ]
    }
   ],
   "source": [
    "for x, y in zip(X_test, y_test):\n",
    "    #img_a = cv2.resize(x[:, :, 0], (128, 128))\n",
    "    #img_b = cv2.resize(x[:, :, 1], (128, 128))\n",
    "    #new_x = np.dstack([img_a, img_b])\n",
    "    y = y.reshape(4, 2)\n",
    "    np.square(np.abs(y[:, 0] - y[:, 1]))\n",
    "    break"
   ]
  },
  {
   "cell_type": "code",
   "execution_count": null,
   "metadata": {},
   "outputs": [],
   "source": []
  }
 ],
 "metadata": {
  "kernelspec": {
   "display_name": "Python 3",
   "language": "python",
   "name": "python3"
  },
  "language_info": {
   "codemirror_mode": {
    "name": "ipython",
    "version": 3
   },
   "file_extension": ".py",
   "mimetype": "text/x-python",
   "name": "python",
   "nbconvert_exporter": "python",
   "pygments_lexer": "ipython3",
   "version": "3.6.7"
  }
 },
 "nbformat": 4,
 "nbformat_minor": 2
}
