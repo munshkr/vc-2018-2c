{
 "cells": [
  {
   "cell_type": "markdown",
   "metadata": {},
   "source": [
    "# Práctica 8 - Cámaras"
   ]
  },
  {
   "cell_type": "markdown",
   "metadata": {},
   "source": [
    "## Preparación"
   ]
  },
  {
   "cell_type": "markdown",
   "metadata": {},
   "source": [
    "Para correr este Jupyter Notebook es necesario tener instalado Octave y octave_kernel, el cual permite utilizar Octave en Jupyter. En Ubuntu se pueden instalar mediante:\n",
    "\n",
    "```\n",
    "sudo apt-get install octave\n",
    "```\n",
    "\n",
    "y\n",
    "\n",
    "```\n",
    "pip3 install octave_kernel\n",
    "```\n"
   ]
  },
  {
   "cell_type": "markdown",
   "metadata": {},
   "source": [
    "## Ejercicio 1"
   ]
  },
  {
   "cell_type": "code",
   "execution_count": 6,
   "metadata": {},
   "outputs": [],
   "source": [
    "function res = rotateX(degs)\n",
    "   rads = deg2rad(degs);\n",
    "   res = [ 1 0 0;\n",
    "           0 cos(rads) (-sin(rads));\n",
    "           0 sin(rads) cos(rads) ];\n",
    "end\n",
    "\n",
    "function res = rotateY(degs)\n",
    "   rads = deg2rad(degs);\n",
    "   res = [ cos(rads) 0 sin(rads);\n",
    "           0 1 0;\n",
    "           (-sin(rads)) 0 cos(rads) ];\n",
    "end\n",
    "\n",
    "function res = rotateZ(degs)\n",
    "   rads = deg2rad(degs);\n",
    "   res = [ cos(rads) (-sin(rads)) 0;\n",
    "           sin(rads) cos(rads) 0;\n",
    "           0 0 1 ];\n",
    "end"
   ]
  },
  {
   "cell_type": "code",
   "execution_count": 7,
   "metadata": {},
   "outputs": [
    {
     "name": "stdout",
     "output_type": "stream",
     "text": [
      "R1 =\n",
      "\n",
      "   0.00000  -1.00000   0.00000\n",
      "   0.00000   0.00000   1.00000\n",
      "  -1.00000   0.00000   0.00000\n",
      "\n",
      "R2 =\n",
      "\n",
      "   0.00000  -0.00000   1.00000\n",
      "   1.00000   0.00000  -0.00000\n",
      "   0.00000   1.00000   0.00000\n",
      "\n",
      "R3 =\n",
      "\n",
      "   5.3029e-17   2.5882e-01   9.6593e-01\n",
      "   3.0616e-17   9.6593e-01  -2.5882e-01\n",
      "  -1.0000e+00   4.3298e-17   4.3298e-17\n",
      "\n"
     ]
    }
   ],
   "source": [
    "R1 = rotateZ(90) * rotateY(90)\n",
    "R2 = rotateZ(90) * rotateX(90)\n",
    "R3 = rotateZ(30) * rotateY(90) * rotateX(45)"
   ]
  },
  {
   "cell_type": "markdown",
   "metadata": {},
   "source": [
    "Notar que aplicamos las rotaciones en el orden especificado (ZYX). Cuando no es necesario rotar en algún eje, se multiplica por la matriz identidad."
   ]
  },
  {
   "cell_type": "markdown",
   "metadata": {},
   "source": [
    "## Ejercicio 2"
   ]
  },
  {
   "cell_type": "code",
   "execution_count": 8,
   "metadata": {},
   "outputs": [
    {
     "name": "stdout",
     "output_type": "stream",
     "text": [
      "X =\n",
      "\n",
      "   3   4  -3\n",
      "\n",
      "C =\n",
      "\n",
      "   5   3   5\n",
      "\n"
     ]
    }
   ],
   "source": [
    "X = [3 4 -3]\n",
    "C = [5 3 5]"
   ]
  },
  {
   "cell_type": "code",
   "execution_count": 9,
   "metadata": {},
   "outputs": [
    {
     "name": "stdout",
     "output_type": "stream",
     "text": [
      "R =\n",
      "\n",
      "   0.00000   0.00000   1.00000\n",
      "   0.00000   1.00000   0.00000\n",
      "  -1.00000   0.00000   0.00000\n",
      "\n"
     ]
    }
   ],
   "source": [
    "R = rotateY(90)"
   ]
  },
  {
   "cell_type": "code",
   "execution_count": 10,
   "metadata": {},
   "outputs": [
    {
     "name": "stdout",
     "output_type": "stream",
     "text": [
      "X_cam =\n",
      "\n",
      "  -8.0000\n",
      "   1.0000\n",
      "   2.0000\n",
      "\n"
     ]
    }
   ],
   "source": [
    "X_cam = R * (X-C)'"
   ]
  },
  {
   "cell_type": "markdown",
   "metadata": {},
   "source": [
    "## Ejercicio 3"
   ]
  },
  {
   "cell_type": "code",
   "execution_count": null,
   "metadata": {},
   "outputs": [],
   "source": []
  }
 ],
 "metadata": {
  "kernelspec": {
   "display_name": "Octave",
   "language": "octave",
   "name": "octave"
  },
  "language_info": {
   "file_extension": ".m",
   "help_links": [
    {
     "text": "GNU Octave",
     "url": "https://www.gnu.org/software/octave/support.html"
    },
    {
     "text": "Octave Kernel",
     "url": "https://github.com/Calysto/octave_kernel"
    },
    {
     "text": "MetaKernel Magics",
     "url": "https://github.com/calysto/metakernel/blob/master/metakernel/magics/README.md"
    }
   ],
   "mimetype": "text/x-octave",
   "name": "octave",
   "version": "4.2.2"
  }
 },
 "nbformat": 4,
 "nbformat_minor": 2
}
