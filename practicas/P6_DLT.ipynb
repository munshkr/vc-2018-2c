{
 "cells": [
  {
   "cell_type": "markdown",
   "metadata": {},
   "source": [
    "# Práctica 6 - DLT y RANSAC"
   ]
  },
  {
   "cell_type": "code",
   "execution_count": 1,
   "metadata": {},
   "outputs": [],
   "source": [
    "import numpy as np\n",
    "import math\n",
    "import matplotlib.pyplot as plt\n",
    "from imageio import imread\n",
    "%matplotlib inline\n",
    "from functools import reduce"
   ]
  },
  {
   "cell_type": "markdown",
   "metadata": {},
   "source": [
    "# DLT"
   ]
  },
  {
   "cell_type": "code",
   "execution_count": 2,
   "metadata": {},
   "outputs": [],
   "source": [
    "def printVars(results):\n",
    "    for key in results.keys():\n",
    "        print(key)\n",
    "        print(results[key])\n",
    "        print(\" \")"
   ]
  },
  {
   "cell_type": "code",
   "execution_count": 3,
   "metadata": {},
   "outputs": [],
   "source": [
    "def aplicarHsobrePunto(Hparam, x,y):\n",
    "    vect = np.array([x,y,1])\n",
    "    vect = Hparam @ vect\n",
    "    vect = vect/vect[2]\n",
    "    x_pr = int(vect[0])\n",
    "    y_pr = int(vect[1])\n",
    "    return (x_pr,y_pr)"
   ]
  },
  {
   "cell_type": "code",
   "execution_count": 4,
   "metadata": {},
   "outputs": [],
   "source": [
    "def aplicarH(H, img):\n",
    "    img_transf = np.zeros(img.shape)\n",
    "    vect_ant = np.array([-1,-1,-1])\n",
    "\n",
    "    for x in range(img.shape[1]):\n",
    "        for y in range(img.shape[0]):\n",
    "            vect = np.array([x,y,1])\n",
    "            vect = H @ vect\n",
    "            vect = vect/vect[2]\n",
    "            x_pr = int(vect[0])\n",
    "            y_pr = int(vect[1])\n",
    "            \n",
    "            #print(y_pr)\n",
    "            #print(x_pr)\n",
    "            #print(img.shape[0])\n",
    "            #print(img.shape[1])\n",
    "            #print(\" \")\n",
    "            \n",
    "            if (y_pr < img.shape[0] and  y_pr>= 0) and (x_pr< img.shape[1] and  x_pr>= 0):\n",
    "                img_transf[y, x, :] = img[y_pr,x_pr,:].astype(np.uint8)\n",
    "                #print(\"no se fue\")\n",
    "\n",
    "    return img_transf"
   ]
  },
  {
   "cell_type": "markdown",
   "metadata": {},
   "source": [
    "Para obtener el H:\n",
    "* Generar una matriz A, de dimensión 2n × 9, con las matrices Ai\n",
    "* Descomponer A según SVD. A = UD(V^t)\n"
   ]
  },
  {
   "cell_type": "code",
   "execution_count": 5,
   "metadata": {},
   "outputs": [
    {
     "data": {
      "image/png": "[encoded data removed]",
      "text/plain": [
       "<Figure size 432x288 with 1 Axes>"
      ]
     },
     "metadata": {
      "needs_background": "light"
     },
     "output_type": "display_data"
    }
   ],
   "source": [
    "#d1 = imread(\"img/dameros/damero1.jpg\");\n",
    "#d2 = imread(\"img/dameros/damero2.jpg\");\n",
    "\n",
    "d1 = imread(\"img/cuadrado1.png\");\n",
    "#d2 = imread(\"img/cuadrado2.png\");\n",
    "plt.imshow(d1);"
   ]
  },
  {
   "cell_type": "code",
   "execution_count": 6,
   "metadata": {},
   "outputs": [
    {
     "name": "stderr",
     "output_type": "stream",
     "text": [
      "Clipping input data to the valid range for imshow with RGB data ([0..1] for floats or [0..255] for integers).\n"
     ]
    },
    {
     "data": {
      "image/png": "[encoded data removed]",
      "text/plain": [
       "<Figure size 432x288 with 1 Axes>"
      ]
     },
     "metadata": {
      "needs_background": "light"
     },
     "output_type": "display_data"
    }
   ],
   "source": [
    "alpha = 0.3\n",
    "\n",
    "Hobjetivo = [[ math.cos(alpha) , -math.sin(alpha)   ,0.        ],\n",
    " [math.sin(alpha)   ,math.cos(alpha)  ,0.        ],\n",
    " [ 0.          ,0.          ,1.        ]]\n",
    "\n",
    "d2 = aplicarH(Hobjetivo, d1)\n",
    "plt.imshow(d2);"
   ]
  },
  {
   "cell_type": "code",
   "execution_count": 7,
   "metadata": {},
   "outputs": [
    {
     "data": {
      "text/plain": [
       "'O sea que la última fila de V corresponde al vector de menor valor singular de A'"
      ]
     },
     "execution_count": 7,
     "metadata": {},
     "output_type": "execute_result"
    }
   ],
   "source": [
    "#u,d,vt = np.linalg.svd(d1, full_matrices=True)\n",
    "\"Con esta descomposición tenemos que la última columna de la matriz V corresponde al vector de menor valor singular de la matriz A.\"\n",
    "\"O sea que la última fila de V corresponde al vector de menor valor singular de A\"\n"
   ]
  },
  {
   "cell_type": "markdown",
   "metadata": {},
   "source": [
    "1. tengo mis correspondencias en el espacio pixel R2\n",
    "2. buscar promedio y desvio estandard de ambos conjuntos de puntos de correspondencias.\n",
    "3. los normalizo. o sea, les resto el promedio y divido por sqrt(2)/desvio. Esto es equivalente a armar la H que transforma al espacio normal. esta H es de 3x3, que escala y traslada.\n",
    "H = [[s 0 -Mediax.s] [0 s -Mediay.s] [0 0 1]]\n",
    "obs: va a haber una H por conjunto de puntos. A la primera H la llamamos H moño, a la segunda H moño prima\n",
    "4. Paso todos los puntos a P2\n",
    "5. Armo las Ai, con eso armo la A, y con eso obtengo V. con V obtengo la H con puntito arriba, y con eso obtengo la H final"
   ]
  },
  {
   "cell_type": "markdown",
   "metadata": {},
   "source": [
    "### Dados 4 puntos de correspondencia:"
   ]
  },
  {
   "cell_type": "markdown",
   "metadata": {},
   "source": [
    "Tenemos nuestras correspondencias en la primer imagen, y en la segunda"
   ]
  },
  {
   "cell_type": "code",
   "execution_count": 8,
   "metadata": {},
   "outputs": [],
   "source": [
    "def invertirCoordenadas(conjuntoPuntos):\n",
    "    return [(p[1],p[0]) for p in conjuntoPuntos]"
   ]
  },
  {
   "cell_type": "code",
   "execution_count": 9,
   "metadata": {},
   "outputs": [],
   "source": [
    "#puntosDamero = [(867,779), (2055,800), (845,3110), (1997, 3137)]\n",
    "#puntosOtroDamero = [(566,740),(1779,379), (1206, 3210), (2501, 2887)]\n",
    "\n",
    "puntosCuadrado = [(113,103), (232,103), (113,199), (232,199)]\n",
    "#puntosOtroCuadrado = [(74,29), (333,29), (74,203), (333,203)]\n",
    "\n",
    "###### Redefinicion de puntos intercambiando coordenadas\n",
    "puntosCuadrado = invertirCoordenadas(puntosCuadrado)\n",
    "#puntosOtroCuadrado = [(p[1],p[0]) for p in puntosOtroCuadrado]\n"
   ]
  },
  {
   "cell_type": "code",
   "execution_count": 10,
   "metadata": {},
   "outputs": [
    {
     "name": "stdout",
     "output_type": "stream",
     "text": [
      "[(65, 138), (29, 252), (156, 166), (121, 280)]\n"
     ]
    }
   ],
   "source": [
    "puntosOtroCuadrado = [aplicarHsobrePunto(Hobjetivo,p[0],p[1]) for p in puntosCuadrado]\n",
    "print(puntosOtroCuadrado)"
   ]
  },
  {
   "cell_type": "code",
   "execution_count": 11,
   "metadata": {},
   "outputs": [],
   "source": [
    "puntos = puntosCuadrado\n",
    "puntosX = [p[0] for p in puntos]\n",
    "puntosY = [p[1] for p in puntos]\n",
    "\n",
    "otrosPuntos = puntosOtroCuadrado\n",
    "otrosPuntosX = [p[0] for p in otrosPuntos]\n",
    "otrosPuntosY = [p[1] for p in otrosPuntos]"
   ]
  },
  {
   "cell_type": "code",
   "execution_count": 12,
   "metadata": {},
   "outputs": [],
   "source": [
    "def marcar(pl, x, y):\n",
    "    pl.plot(y,x,'bo', markersize=10)\n"
   ]
  },
  {
   "cell_type": "code",
   "execution_count": 13,
   "metadata": {
    "scrolled": false
   },
   "outputs": [
    {
     "data": {
      "image/png": "[encoded data removed]",
      "text/plain": [
       "<Figure size 576x576 with 1 Axes>"
      ]
     },
     "metadata": {
      "needs_background": "light"
     },
     "output_type": "display_data"
    }
   ],
   "source": [
    "plt.figure(1, figsize=(8,8))\n",
    "plt.plot()\n",
    "plt.title(\"Imagen original\")\n",
    "plt.imshow(d1)\n",
    "\n",
    "for elem in puntos:\n",
    "    marcar(plt, elem[0], elem[1])\n",
    "\n",
    "plt.show()"
   ]
  },
  {
   "cell_type": "code",
   "execution_count": 14,
   "metadata": {
    "scrolled": false
   },
   "outputs": [
    {
     "name": "stderr",
     "output_type": "stream",
     "text": [
      "Clipping input data to the valid range for imshow with RGB data ([0..1] for floats or [0..255] for integers).\n"
     ]
    },
    {
     "data": {
      "image/png": "[encoded data removed]",
      "text/plain": [
       "<Figure size 576x576 with 1 Axes>"
      ]
     },
     "metadata": {
      "needs_background": "light"
     },
     "output_type": "display_data"
    }
   ],
   "source": [
    "plt.figure(1, figsize=(8,8))\n",
    "plt.plot()\n",
    "plt.title(\"Imagen alterada\")\n",
    "plt.imshow(d2)\n",
    "\n",
    "for elem in otrosPuntos:\n",
    "    marcar(plt, elem[0], elem[1])\n",
    "\n",
    "plt.show()"
   ]
  },
  {
   "cell_type": "markdown",
   "metadata": {},
   "source": [
    "Buscamos el promedio y el desvío standard de ambos conjuntos de puntos de correspondencias"
   ]
  },
  {
   "cell_type": "code",
   "execution_count": 15,
   "metadata": {},
   "outputs": [],
   "source": [
    "promedioPuntosX = np.mean(puntosX)\n",
    "promedioPuntosY = np.mean(puntosY)\n",
    "\n",
    "promedioOtrosPuntosX= np.mean(otrosPuntosX)\n",
    "promedioOtrosPuntosY = np.mean(otrosPuntosY)\n",
    "\n",
    "desvioPuntosX = np.std(puntosX)\n",
    "desvioPuntosY = np.std(puntosY)\n",
    "\n",
    "desvioOtrosPuntosX = np.std(otrosPuntosX)\n",
    "desvioOtrosPuntosY = np.std(otrosPuntosY)"
   ]
  },
  {
   "cell_type": "markdown",
   "metadata": {},
   "source": [
    "Los normalizamos. O sea, les restamos el promedio y multiplicamos por sqrt(2)/desvio. Esto es equivalente a armar la H que transforma al espacio normal. esta H es de 3x3, que escala y traslada. H = [[s 0 -Mediax.s] [0 s -Mediay.s] [0 0 1]] obs: va a haber una H por conjunto de puntos. A la primera H la llamamos H moño, a la segunda H moño prima."
   ]
  },
  {
   "cell_type": "markdown",
   "metadata": {},
   "source": [
    "## No se usa esto:"
   ]
  },
  {
   "cell_type": "code",
   "execution_count": 16,
   "metadata": {},
   "outputs": [],
   "source": [
    "def normalizar(puntosParam):\n",
    "    return [(pParam-np.mean(puntosParam))*np.sqrt(2)/np.std(puntosParam) for pParam in puntosParam]"
   ]
  },
  {
   "cell_type": "code",
   "execution_count": 17,
   "metadata": {},
   "outputs": [],
   "source": [
    "otrosPuntosNormalizadosX = normalizar(otrosPuntosX)\n",
    "otrosPuntosNormalizadosY = normalizar(otrosPuntosY)\n",
    "\n",
    "puntosNormalizadosX = normalizar(puntosX)\n",
    "puntosNormalizadosY = normalizar(puntosY)"
   ]
  },
  {
   "cell_type": "code",
   "execution_count": 18,
   "metadata": {},
   "outputs": [
    {
     "name": "stdout",
     "output_type": "stream",
     "text": [
      "puntosY\n",
      "[113, 232, 113, 232]\n",
      " \n",
      "otrosPuntosNormalizados\n",
      "[(-0.7997105702595723, -1.7107192148978188), (-1.8371729316773957, 1.03606938367051), (1.8227637322132595, -1.03606938367051), (0.8141197697237087, 1.7107192148978188)]\n",
      " \n",
      "puntos\n",
      "[(103, 113), (103, 232), (199, 113), (199, 232)]\n",
      " \n",
      "otrosPuntos\n",
      "[(65, 138), (29, 252), (156, 166), (121, 280)]\n",
      " \n",
      "puntosNormalizados\n",
      "[(-1.4142135623730951, -1.4142135623730951), (-1.4142135623730951, 1.4142135623730951), (1.4142135623730951, -1.4142135623730951), (1.4142135623730951, 1.4142135623730951)]\n",
      " \n",
      "puntosX\n",
      "[103, 103, 199, 199]\n",
      " \n"
     ]
    }
   ],
   "source": [
    "printVars({\"puntosX\": puntosX, \"puntosY\": puntosY, \"puntos\": puntos, \\\n",
    "           \"otrosPuntos\": otrosPuntos, \\\n",
    "           \"otrosPuntosNormalizados\":list(zip(otrosPuntosNormalizadosX,otrosPuntosNormalizadosY)), \\\n",
    "            \"puntosNormalizados\":list(zip(puntosNormalizadosX,puntosNormalizadosY))})"
   ]
  },
  {
   "cell_type": "markdown",
   "metadata": {},
   "source": [
    "## fin de \"no se usa esto\""
   ]
  },
  {
   "cell_type": "code",
   "execution_count": 19,
   "metadata": {},
   "outputs": [],
   "source": [
    "puntosPromedio = np.mean(puntos, axis=0)\n",
    "otrosPuntosPromedio = np.mean(otrosPuntos, axis=0)\n",
    "puntosCentrados = puntos - np.tile(puntosPromedio, (len(puntos),1))\n",
    "otrosPuntosCentrados = otrosPuntos - np.tile(otrosPuntosPromedio, (len(puntos),1))\n",
    "normaPuntos = np.linalg.norm(puntosCentrados, axis=1)\n",
    "normaOtrosPuntos = np.linalg.norm(otrosPuntosCentrados, axis=1)\n",
    "dPuntos = np.mean(normaPuntos)\n",
    "dOtrosPuntos = np.mean(normaPuntos)\n",
    "\n",
    "sPuntos = np.sqrt(2)/dPuntos\n",
    "sOtrosPuntos = np.sqrt(2)/dOtrosPuntos\n",
    "\n",
    "Hnorm = np.array([[sPuntos,0      ,-np.mean(puntosX)*sPuntos],\n",
    "                  [0      ,sPuntos,-np.mean(puntosY)*sPuntos],\n",
    "                  [0      ,0      ,1]])\n",
    "\n",
    "HnormPrima = np.array([[sOtrosPuntos,0      ,-np.mean(otrosPuntosX)*sOtrosPuntos],\n",
    "                      [0      ,sOtrosPuntos,-np.mean(otrosPuntosY)*sOtrosPuntos],\n",
    "                      [0      ,0      ,1]])\n"
   ]
  },
  {
   "cell_type": "code",
   "execution_count": 20,
   "metadata": {
    "scrolled": true
   },
   "outputs": [
    {
     "name": "stdout",
     "output_type": "stream",
     "text": [
      "o_centered\n",
      "[[-27.75 -71.  ]\n",
      " [-63.75  43.  ]\n",
      " [ 63.25 -43.  ]\n",
      " [ 28.25  71.  ]]\n",
      " \n",
      "HnormPrima\n",
      "[[ 0.0184991   0.         -1.71579154]\n",
      " [ 0.          0.0184991  -3.86631194]\n",
      " [ 0.          0.          1.        ]]\n",
      " \n",
      "Hnorm\n",
      "[[ 0.0184991   0.         -2.79336413]\n",
      " [ 0.          0.0184991  -3.19109479]\n",
      " [ 0.          0.          1.        ]]\n",
      " \n"
     ]
    }
   ],
   "source": [
    "printVars({\"o_centered\": otrosPuntosCentrados, \"Hnorm\":Hnorm, \"HnormPrima\":HnormPrima})"
   ]
  },
  {
   "cell_type": "markdown",
   "metadata": {},
   "source": [
    "## hasta acá anda bien"
   ]
  },
  {
   "cell_type": "markdown",
   "metadata": {},
   "source": [
    "Pasamos los puntos a P2"
   ]
  },
  {
   "cell_type": "code",
   "execution_count": 21,
   "metadata": {},
   "outputs": [
    {
     "name": "stdout",
     "output_type": "stream",
     "text": [
      "[(113, 103, 1), (232, 103, 1), (113, 199, 1), (232, 199, 1)]\n"
     ]
    }
   ],
   "source": [
    "puntosP2 = [(p[1],p[0],1)for p in zip(puntosX, puntosY)]\n",
    "otrosPuntosP2 = [(p[1],p[0],1)for p in zip(otrosPuntosX, otrosPuntosY)]\n",
    "\n",
    "print(puntosP2)"
   ]
  },
  {
   "cell_type": "markdown",
   "metadata": {},
   "source": [
    "Armamos las Ai, con eso armamos la A, y con eso obtenemos V. Con V obtenemos la H con puntito arriba, y con eso obtenemos la H final"
   ]
  },
  {
   "cell_type": "code",
   "execution_count": 22,
   "metadata": {},
   "outputs": [],
   "source": [
    "def sumarMatriz(m1,m2): # a m1 le suma m2\n",
    "    for i in range(len(m1)):\n",
    "        for j in range(len(m1[0])):\n",
    "            m1[i][j] = m1[i][j] + m2[i][j]        "
   ]
  },
  {
   "cell_type": "code",
   "execution_count": 23,
   "metadata": {
    "scrolled": false
   },
   "outputs": [
    {
     "name": "stdout",
     "output_type": "stream",
     "text": [
      "A\n",
      "[[0, 0, 0, -113, -103, -1, 7345, 6695, 65], [113, 103, 1, 0, 0, 0, -15594, -14214, -138]]\n",
      " \n",
      "A\n",
      "[[0, 0, 0, -113, -103, -1, 7345, 6695, 65], [113, 103, 1, 0, 0, 0, -15594, -14214, -138], [0, 0, 0, -232, -103, -1, 6728, 2987, 29], [232, 103, 1, 0, 0, 0, -58464, -25956, -252]]\n",
      " \n",
      "A\n",
      "[[0, 0, 0, -113, -103, -1, 7345, 6695, 65], [113, 103, 1, 0, 0, 0, -15594, -14214, -138], [0, 0, 0, -232, -103, -1, 6728, 2987, 29], [232, 103, 1, 0, 0, 0, -58464, -25956, -252], [0, 0, 0, -113, -199, -1, 17628, 31044, 156], [113, 199, 1, 0, 0, 0, -18758, -33034, -166]]\n",
      " \n",
      "A\n",
      "[[0, 0, 0, -113, -103, -1, 7345, 6695, 65], [113, 103, 1, 0, 0, 0, -15594, -14214, -138], [0, 0, 0, -232, -103, -1, 6728, 2987, 29], [232, 103, 1, 0, 0, 0, -58464, -25956, -252], [0, 0, 0, -113, -199, -1, 17628, 31044, 156], [113, 199, 1, 0, 0, 0, -18758, -33034, -166], [0, 0, 0, -232, -199, -1, 28072, 24079, 121], [232, 199, 1, 0, 0, 0, -64960, -55720, -280]]\n",
      " \n"
     ]
    }
   ],
   "source": [
    "A = []\n",
    "for (x, xPrima) in zip(puntosP2, otrosPuntosP2):\n",
    "    A.append([0,0,0,  -xPrima[2]*x[0], -xPrima[2]*x[1], -xPrima[2]*x[2],    xPrima[1]*x[0], xPrima[1]*x[1], xPrima[1]*x[2]])\n",
    "    A.append([xPrima[2]*x[0], xPrima[2]*x[1], xPrima[2]*x[2],   0,0,0,  -xPrima[0]*x[0], -xPrima[0]*x[1], -xPrima[0]*x[2]])\n",
    "    #sumarMatriz(A,Ai)\n",
    "    #A = A + Ai\n",
    "    printVars({\"A\": A})"
   ]
  },
  {
   "cell_type": "code",
   "execution_count": 24,
   "metadata": {},
   "outputs": [
    {
     "name": "stdout",
     "output_type": "stream",
     "text": [
      "(8, 8)\n",
      "[[1.24302731e+05 0.00000000e+00 0.00000000e+00 0.00000000e+00\n",
      "  0.00000000e+00 0.00000000e+00 0.00000000e+00 0.00000000e+00]\n",
      " [0.00000000e+00 2.54783338e+04 0.00000000e+00 0.00000000e+00\n",
      "  0.00000000e+00 0.00000000e+00 0.00000000e+00 0.00000000e+00]\n",
      " [0.00000000e+00 0.00000000e+00 4.60953382e+02 0.00000000e+00\n",
      "  0.00000000e+00 0.00000000e+00 0.00000000e+00 0.00000000e+00]\n",
      " [0.00000000e+00 0.00000000e+00 0.00000000e+00 1.58464203e+02\n",
      "  0.00000000e+00 0.00000000e+00 0.00000000e+00 0.00000000e+00]\n",
      " [0.00000000e+00 0.00000000e+00 0.00000000e+00 0.00000000e+00\n",
      "  1.03250237e+02 0.00000000e+00 0.00000000e+00 0.00000000e+00]\n",
      " [0.00000000e+00 0.00000000e+00 0.00000000e+00 0.00000000e+00\n",
      "  0.00000000e+00 2.49275932e+01 0.00000000e+00 0.00000000e+00]\n",
      " [0.00000000e+00 0.00000000e+00 0.00000000e+00 0.00000000e+00\n",
      "  0.00000000e+00 0.00000000e+00 4.71926523e-01 0.00000000e+00]\n",
      " [0.00000000e+00 0.00000000e+00 0.00000000e+00 0.00000000e+00\n",
      "  0.00000000e+00 0.00000000e+00 0.00000000e+00 1.68872435e-01]]\n",
      "(9, 9)\n"
     ]
    },
    {
     "ename": "ValueError",
     "evalue": "shapes (8,8) and (9,9) not aligned: 8 (dim 1) != 9 (dim 0)",
     "output_type": "error",
     "traceback": [
      "\u001b[0;31m---------------------------------------------------------------------------\u001b[0m",
      "\u001b[0;31mValueError\u001b[0m                                Traceback (most recent call last)",
      "\u001b[0;32m<ipython-input-24-d5df1f7f0da1>\u001b[0m in \u001b[0;36m<module>\u001b[0;34m\u001b[0m\n\u001b[1;32m      6\u001b[0m \u001b[0mprint\u001b[0m\u001b[0;34m(\u001b[0m\u001b[0msigma\u001b[0m\u001b[0;34m)\u001b[0m\u001b[0;34m\u001b[0m\u001b[0m\n\u001b[1;32m      7\u001b[0m \u001b[0mprint\u001b[0m\u001b[0;34m(\u001b[0m\u001b[0mvt\u001b[0m\u001b[0;34m.\u001b[0m\u001b[0mshape\u001b[0m\u001b[0;34m)\u001b[0m\u001b[0;34m\u001b[0m\u001b[0m\n\u001b[0;32m----> 8\u001b[0;31m \u001b[0mprint\u001b[0m\u001b[0;34m(\u001b[0m\u001b[0mnp\u001b[0m\u001b[0;34m.\u001b[0m\u001b[0mmatmul\u001b[0m\u001b[0;34m(\u001b[0m\u001b[0mnp\u001b[0m\u001b[0;34m.\u001b[0m\u001b[0mmatmul\u001b[0m\u001b[0;34m(\u001b[0m\u001b[0mu\u001b[0m\u001b[0;34m,\u001b[0m\u001b[0mnp\u001b[0m\u001b[0;34m.\u001b[0m\u001b[0mdiag\u001b[0m\u001b[0;34m(\u001b[0m\u001b[0md\u001b[0m\u001b[0;34m)\u001b[0m\u001b[0;34m)\u001b[0m\u001b[0;34m,\u001b[0m\u001b[0mvt\u001b[0m\u001b[0;34m)\u001b[0m\u001b[0;34m)\u001b[0m\u001b[0;34m\u001b[0m\u001b[0m\n\u001b[0m\u001b[1;32m      9\u001b[0m \u001b[0;31m#v = [fila[-1] for fila in vt]\u001b[0m\u001b[0;34m\u001b[0m\u001b[0;34m\u001b[0m\u001b[0m\n\u001b[1;32m     10\u001b[0m \u001b[0;31m#Hpuntito = [v[0:3],v[3:6],v[6:9]]\u001b[0m\u001b[0;34m\u001b[0m\u001b[0;34m\u001b[0m\u001b[0m\n",
      "\u001b[0;31mValueError\u001b[0m: shapes (8,8) and (9,9) not aligned: 8 (dim 1) != 9 (dim 0)"
     ]
    }
   ],
   "source": [
    "u,d,vt = np.linalg.svd(A)\n",
    "\"Con esta descomposición tenemos que la última columna de la matriz V corresponde al vector de menor valor singular de la matriz A. O sea que la última fila de V corresponde al vector de menor valor singular de A\"\n",
    "\"ultima columna de la matriz V = ultima fila de la matriz Vt\"\n",
    "print(u.shape)\n",
    "sigma = np.transpose(np.diag(d) + [0,0,0,0,0,0,0,0])\n",
    "print(sigma)\n",
    "print(vt.shape)\n",
    "print(np.matmul(np.matmul(u,np.diag(d)),vt))\n",
    "#v = [fila[-1] for fila in vt]\n",
    "#Hpuntito = [v[0:3],v[3:6],v[6:9]]\n",
    "fila = vt[-1]\n",
    "Hpuntito = [[fila[0],fila[1],fila[2]],[fila[3],fila[4],fila[5]],[fila[6],fila[7],fila[8]]]"
   ]
  },
  {
   "cell_type": "markdown",
   "metadata": {},
   "source": [
    "Hpuntito corresponde a la H con puntito arriba descripta en las diapositivas. Para obtener la H final debemos considerar la normalización que calculamos previamente"
   ]
  },
  {
   "cell_type": "code",
   "execution_count": null,
   "metadata": {
    "scrolled": true
   },
   "outputs": [],
   "source": [
    "print(np.linalg.inv(HnormPrima))\n",
    "print(HnormPrima)\n",
    "np.matmul(np.linalg.inv(HnormPrima), HnormPrima)"
   ]
  },
  {
   "cell_type": "code",
   "execution_count": null,
   "metadata": {},
   "outputs": [],
   "source": [
    "HnormPrimaInv = np.linalg.inv(HnormPrima)\n",
    "\n",
    "Hfinal = np.matmul(np.matmul(HnormPrimaInv, Hpuntito), Hnorm)"
   ]
  },
  {
   "cell_type": "code",
   "execution_count": null,
   "metadata": {
    "scrolled": false
   },
   "outputs": [],
   "source": [
    "printVars({\"Hfinal\": Hfinal, \"Hobjetivo\": Hobjetivo, \"Hpuntito\": Hpuntito, \"Hnorm\": Hnorm, \\\n",
    "           \"HfinalInv\": np.linalg.inv(Hfinal), \"HpuntitoInv\":np.linalg.inv(Hpuntito), \\\n",
    "           \"HnormInv\":np.linalg.inv(Hnorm), \"HobjetivoInv\": np.linalg.inv(Hobjetivo)})"
   ]
  },
  {
   "cell_type": "markdown",
   "metadata": {},
   "source": [
    "## Pruebas DLT"
   ]
  },
  {
   "cell_type": "code",
   "execution_count": null,
   "metadata": {},
   "outputs": [],
   "source": []
  },
  {
   "cell_type": "code",
   "execution_count": null,
   "metadata": {},
   "outputs": [],
   "source": [
    "imagenhomografiada = transf_dlt(Hpuntito, d1);"
   ]
  },
  {
   "cell_type": "code",
   "execution_count": null,
   "metadata": {},
   "outputs": [],
   "source": [
    "#print(imagenhomografiada)"
   ]
  },
  {
   "cell_type": "code",
   "execution_count": null,
   "metadata": {},
   "outputs": [],
   "source": [
    "plt.imshow(d1)"
   ]
  },
  {
   "cell_type": "code",
   "execution_count": null,
   "metadata": {},
   "outputs": [],
   "source": [
    "plt.imshow(imagenhomografiada)"
   ]
  },
  {
   "cell_type": "markdown",
   "metadata": {},
   "source": [
    "## Probando con una H"
   ]
  },
  {
   "cell_type": "code",
   "execution_count": null,
   "metadata": {
    "scrolled": true
   },
   "outputs": [],
   "source": [
    "Hmanual = np.array([[0.965, -0.258, 0], [0.258,0.965,0],[0,0,1]]);\n",
    "girada = transf_dlt(Hmanual, d1)\n",
    "plt.imshow(girada);"
   ]
  },
  {
   "cell_type": "code",
   "execution_count": null,
   "metadata": {},
   "outputs": [],
   "source": [
    "plt.imshow(transf_dlt(np.linalg.inv(H), d1));"
   ]
  },
  {
   "cell_type": "code",
   "execution_count": null,
   "metadata": {},
   "outputs": [],
   "source": [
    "print(np.linalg.inv(H))"
   ]
  }
 ],
 "metadata": {
  "kernelspec": {
   "display_name": "Python 3",
   "language": "python",
   "name": "python3"
  },
  "language_info": {
   "codemirror_mode": {
    "name": "ipython",
    "version": 3
   },
   "file_extension": ".py",
   "mimetype": "text/x-python",
   "name": "python",
   "nbconvert_exporter": "python",
   "pygments_lexer": "ipython3",
   "version": "3.5.2"
  }
 },
 "nbformat": 4,
 "nbformat_minor": 2
}
